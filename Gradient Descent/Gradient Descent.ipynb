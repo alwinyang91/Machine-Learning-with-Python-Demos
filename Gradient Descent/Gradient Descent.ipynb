{
 "cells": [
  {
   "cell_type": "code",
   "execution_count": 3,
   "id": "bf51c0e5",
   "metadata": {},
   "outputs": [
    {
     "name": "stdout",
     "output_type": "stream",
     "text": [
      "Iteration 1 \n",
      "X value is 3.0\n",
      "Iteration 2 \n",
      "X value is 1.4\n",
      "Iteration 3 \n",
      "X value is 0.11999999999999966\n",
      "Iteration 4 \n",
      "X value is -0.9040000000000001\n",
      "Iteration 5 \n",
      "X value is -1.7232000000000003\n",
      "Iteration 6 \n",
      "X value is -2.3785600000000002\n",
      "Iteration 7 \n",
      "X value is -2.902848\n",
      "Iteration 8 \n",
      "X value is -3.3222784\n",
      "The local minimum occurs at -3.3222784\n"
     ]
    }
   ],
   "source": [
    "cur_x = 5 # The algorithm starts at x=3\n",
    "\n",
    "rate = 0.1 # learning rate\n",
    "\n",
    "precision = 0.5 # This tells us when to stop the algorithm\n",
    "\n",
    "previous_step_size = 1\n",
    "\n",
    "max_iters = 1000000  # maximum number of iterations\n",
    "iters = 0 # iteration counter\n",
    "\n",
    "df = lambda x: 2*(x+5) # Gradient of our function\n",
    "\n",
    "while previous_step_size > precision and iters < max_iters:\n",
    "    prev_x = cur_x # store current x value in prev_x\n",
    "    cur_x = cur_x - rate * df(prev_x) # grad descent\n",
    "    previous_step_size = abs(cur_x - prev_x)  # change in x\n",
    "    iters = iters + 1  # iteraction count\n",
    "    print(\"Iteration\", iters, \"\\nX value is\", cur_x)  # print iterations\n",
    "    \n",
    "    \n",
    "print(\"The local minimum occurs at\", cur_x)\n"
   ]
  },
  {
   "cell_type": "code",
   "execution_count": null,
   "id": "0a9c066e",
   "metadata": {},
   "outputs": [],
   "source": [
    "# docs.scipy.org\n",
    "# scipy.optimize.minimize(fun, x0, args=(), method=None, jac=None, hess=None, hessp=None, bounds=None, constraints=(), tol=None, callback=None, options=None)"
   ]
  }
 ],
 "metadata": {
  "kernelspec": {
   "display_name": "Python 3 (ipykernel)",
   "language": "python",
   "name": "python3"
  },
  "language_info": {
   "codemirror_mode": {
    "name": "ipython",
    "version": 3
   },
   "file_extension": ".py",
   "mimetype": "text/x-python",
   "name": "python",
   "nbconvert_exporter": "python",
   "pygments_lexer": "ipython3",
   "version": "3.9.7"
  }
 },
 "nbformat": 4,
 "nbformat_minor": 5
}
