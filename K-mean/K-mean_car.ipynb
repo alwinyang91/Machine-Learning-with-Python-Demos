{
 "cells": [
  {
   "cell_type": "code",
   "execution_count": 138,
   "id": "509876be",
   "metadata": {},
   "outputs": [],
   "source": [
    "# K-Means Clustering\n",
    "\n",
    "# Importing the libraries\n",
    "import numpy as np\n",
    "import pandas as pd \n",
    "import matplotlib.pyplot as plt\n",
    "\n",
    "# make plot figures in the browser, no pop up figures\n",
    "%matplotlib inline "
   ]
  },
  {
   "cell_type": "code",
   "execution_count": 139,
   "id": "f22ad3f1",
   "metadata": {},
   "outputs": [
    {
     "name": "stdout",
     "output_type": "stream",
     "text": [
      "mpg             float64\n",
      " cylinders        int64\n",
      " cubicinches     object\n",
      " hp               int64\n",
      " weightlbs       object\n",
      " time-to-60       int64\n",
      " year             int64\n",
      "dtype: object\n",
      "mpg             float64\n",
      " cylinders        int64\n",
      " cubicinches    float64\n",
      " hp               int64\n",
      " weightlbs      float64\n",
      " time-to-60       int64\n",
      " year             int64\n",
      "dtype: object\n"
     ]
    },
    {
     "data": {
      "text/html": [
       "<div>\n",
       "<style scoped>\n",
       "    .dataframe tbody tr th:only-of-type {\n",
       "        vertical-align: middle;\n",
       "    }\n",
       "\n",
       "    .dataframe tbody tr th {\n",
       "        vertical-align: top;\n",
       "    }\n",
       "\n",
       "    .dataframe thead th {\n",
       "        text-align: right;\n",
       "    }\n",
       "</style>\n",
       "<table border=\"1\" class=\"dataframe\">\n",
       "  <thead>\n",
       "    <tr style=\"text-align: right;\">\n",
       "      <th></th>\n",
       "      <th>mpg</th>\n",
       "      <th>cylinders</th>\n",
       "      <th>cubicinches</th>\n",
       "      <th>hp</th>\n",
       "      <th>weightlbs</th>\n",
       "      <th>time-to-60</th>\n",
       "      <th>year</th>\n",
       "    </tr>\n",
       "  </thead>\n",
       "  <tbody>\n",
       "    <tr>\n",
       "      <th>0</th>\n",
       "      <td>14.0</td>\n",
       "      <td>8</td>\n",
       "      <td>350.0</td>\n",
       "      <td>165</td>\n",
       "      <td>4209.0</td>\n",
       "      <td>12</td>\n",
       "      <td>1972</td>\n",
       "    </tr>\n",
       "    <tr>\n",
       "      <th>1</th>\n",
       "      <td>31.9</td>\n",
       "      <td>4</td>\n",
       "      <td>89.0</td>\n",
       "      <td>71</td>\n",
       "      <td>1925.0</td>\n",
       "      <td>14</td>\n",
       "      <td>1980</td>\n",
       "    </tr>\n",
       "    <tr>\n",
       "      <th>2</th>\n",
       "      <td>17.0</td>\n",
       "      <td>8</td>\n",
       "      <td>302.0</td>\n",
       "      <td>140</td>\n",
       "      <td>3449.0</td>\n",
       "      <td>11</td>\n",
       "      <td>1971</td>\n",
       "    </tr>\n",
       "    <tr>\n",
       "      <th>3</th>\n",
       "      <td>15.0</td>\n",
       "      <td>8</td>\n",
       "      <td>400.0</td>\n",
       "      <td>150</td>\n",
       "      <td>3761.0</td>\n",
       "      <td>10</td>\n",
       "      <td>1971</td>\n",
       "    </tr>\n",
       "    <tr>\n",
       "      <th>4</th>\n",
       "      <td>30.5</td>\n",
       "      <td>4</td>\n",
       "      <td>98.0</td>\n",
       "      <td>63</td>\n",
       "      <td>2051.0</td>\n",
       "      <td>17</td>\n",
       "      <td>1978</td>\n",
       "    </tr>\n",
       "  </tbody>\n",
       "</table>\n",
       "</div>"
      ],
      "text/plain": [
       "    mpg   cylinders   cubicinches   hp   weightlbs   time-to-60   year\n",
       "0  14.0           8         350.0  165      4209.0           12   1972\n",
       "1  31.9           4          89.0   71      1925.0           14   1980\n",
       "2  17.0           8         302.0  140      3449.0           11   1971\n",
       "3  15.0           8         400.0  150      3761.0           10   1971\n",
       "4  30.5           4          98.0   63      2051.0           17   1978"
      ]
     },
     "execution_count": 139,
     "metadata": {},
     "output_type": "execute_result"
    }
   ],
   "source": [
    "# Importing the dataset\n",
    "dataset = pd.read_csv('cars.csv')\n",
    "# print(dataset.columns)\n",
    "# print(dataset.columns[:-1])\n",
    "X = dataset[dataset.columns[:-1]]\n",
    "# X = dataset.iloc[:, :-1] # we remove the column\n",
    "\n",
    "print(X.dtypes)\n",
    "X = X.apply(pd.to_numeric, errors='coerce')\n",
    "\n",
    "print(X.dtypes)\n",
    "X.head()\n",
    "\n",
    "# X.to_csv('carsnew1.csv')"
   ]
  },
  {
   "cell_type": "code",
   "execution_count": 140,
   "id": "d59a86db",
   "metadata": {},
   "outputs": [
    {
     "name": "stdout",
     "output_type": "stream",
     "text": [
      "0\n",
      "0\n",
      "0\n",
      "0\n",
      "0\n",
      "0\n",
      "0\n",
      "False\n"
     ]
    }
   ],
   "source": [
    "# Eliminating null values\n",
    "\n",
    "for i in X.columns:\n",
    "    X[i] = X[i].fillna(int(X[i].mean()))\n",
    "\n",
    "\n",
    "    \n",
    "\n",
    "\n",
    "for i in X.columns:\n",
    "    print(X[i].isnull().sum())\n",
    "    \n",
    "\n",
    "print(np.all(np.isnan(X))) \n",
    "\n",
    "# X.to_csv('carsnew2.csv')"
   ]
  },
  {
   "cell_type": "code",
   "execution_count": 141,
   "id": "cf5c66d2",
   "metadata": {},
   "outputs": [
    {
     "data": {
      "image/png": "[encoded data removed]",
      "text/plain": [
       "<Figure size 432x288 with 1 Axes>"
      ]
     },
     "metadata": {
      "needs_background": "light"
     },
     "output_type": "display_data"
    }
   ],
   "source": [
    "# Using the elbow method to find the optimal number of clusters\n",
    "\n",
    "from sklearn.cluster import KMeans\n",
    "\n",
    "wcss = []\n",
    "\n",
    "\n",
    "kmeans = KMeans(n_clusters=0,init='k-means++',max_iter=300,n_init=10,random_state=0)\n",
    "\n",
    "for i in range(1, 11):\n",
    "    kmeans = KMeans(n_clusters=i,init='k-means++',max_iter=300,n_init=10,random_state=0)\n",
    "    kmeans.fit(X)\n",
    "    wcss.append(kmeans.inertia_)\n",
    "    \n",
    "\n",
    "plt.plot(range(1,11), wcss)\n",
    "plt.title('The Elbow Method')\n",
    "plt.xlabel('Number of clusters')\n",
    "plt.ylabel('WCSS')\n",
    "plt.show()"
   ]
  },
  {
   "cell_type": "code",
   "execution_count": 142,
   "id": "fd2346b2",
   "metadata": {},
   "outputs": [
    {
     "name": "stdout",
     "output_type": "stream",
     "text": [
      "[2 1 0 2 1 2 2 2 0 1 1 1 2 0 0 2 1 0 1 1 1 1 0 2 1 1 1 2 0 1 1 0 1 0 1 0 1\n",
      " 1 2 0 2 2 0 0 0 1 2 1 1 0 2 0 0 1 2 2 0 1 1 2 0 1 0 1 2 0 1 1 1 2 0 1 1 1\n",
      " 1 0 0 1 1 1 2 2 0 1 1 1 0 0 1 1 1 1 2 0 1 2 2 0 2 2 2 2 1 1 1 1 1 1 1 0 1\n",
      " 0 2 1 1 2 0 0 1 2 1 1 2 0 1 1 2 1 1 1 1 1 2 0 2 2 1 0 0 0 1 1 1 1 0 0 0 0\n",
      " 0 0 1 1 2 0 1 0 1 1 1 0 0 2 0 0 1 0 0 1 0 1 1 0 0 1 1 1 2 0 0 1 0 1 2 0 1\n",
      " 0 0 2 2 2 1 1 2 2 2 1 1 1 1 1 1 1 0 0 1 2 1 0 2 0 0 0 1 1 0 1 1 2 1 2 0 0\n",
      " 2 2 2 1 2 1 1 0 0 1 1 2 0 1 2 0 1 1 2 0 2 1 2 0 2 1 1 1 1 1 0 2 0 1 2 1 0\n",
      " 0 0]\n",
      "     K-Means   mpg   cylinders   cubicinches   hp   weightlbs   time-to-60  \\\n",
      "0          2  14.0           8         350.0  165      4209.0           12   \n",
      "1          1  31.9           4          89.0   71      1925.0           14   \n",
      "2          0  17.0           8         302.0  140      3449.0           11   \n",
      "3          2  15.0           8         400.0  150      3761.0           10   \n",
      "4          1  30.5           4          98.0   63      2051.0           17   \n",
      "..       ...   ...         ...           ...  ...         ...          ...   \n",
      "256        2  17.0           8         305.0  130      3840.0           15   \n",
      "257        1  36.1           4          91.0   60      1800.0           16   \n",
      "258        0  22.0           6         232.0  112      2835.0           15   \n",
      "259        0  18.0           6         232.0  100      3288.0           16   \n",
      "260        0  22.0           6         250.0  105      3353.0           15   \n",
      "\n",
      "      year  \n",
      "0     1972  \n",
      "1     1980  \n",
      "2     1971  \n",
      "3     1971  \n",
      "4     1978  \n",
      "..     ...  \n",
      "256   1980  \n",
      "257   1979  \n",
      "258   1983  \n",
      "259   1972  \n",
      "260   1977  \n",
      "\n",
      "[261 rows x 8 columns]\n"
     ]
    }
   ],
   "source": [
    "# Apply K-Means to the cars dataset\n",
    "kmeans = KMeans(n_clusters=3,init='k-means++',max_iter=300,n_init=10,random_state=0)\n",
    "y_kmeans = kmeans.fit_predict(X)\n",
    "print(y_kmeans)\n",
    "X.insert(0,\"K-Means\",y_kmeans)\n",
    "print(X)\n",
    "\n"
   ]
  },
  {
   "cell_type": "code",
   "execution_count": 146,
   "id": "eab8ae01",
   "metadata": {},
   "outputs": [
    {
     "data": {
      "image/png": "[encoded data removed]",
      "text/plain": [
       "<Figure size 432x288 with 1 Axes>"
      ]
     },
     "metadata": {
      "needs_background": "light"
     },
     "output_type": "display_data"
    }
   ],
   "source": [
    "df1 = X.loc[X[\"K-Means\"] == 0]\n",
    "df2 = X.loc[X[\"K-Means\"] == 1]\n",
    "df3 = X.loc[X[\"K-Means\"] == 2]\n",
    "# df1.loc[:,[\"mpg\"]]\n",
    "# df1.iloc[:,1]    \n",
    "# plt.scatter(df1.loc[:,[\"mpg\"]],df1.loc[:,[\"cylinders\"]], s=100, c='red', label='Toyota')\n",
    "plt.scatter(df1.iloc[:,1] ,df1.iloc[:,2] , s=100, c='red', label='Toyota')\n",
    "plt.scatter(df2.iloc[:,1] ,df2.iloc[:,2] , s=100, c='blue', label='Nissan')\n",
    "plt.scatter(df3.iloc[:,1] ,df3.iloc[:,2] , s=100, c='green', label='Honda')\n",
    "plt.scatter(kmeans.cluster_centers_[:,0],kmeans.cluster_centers_[:,1],s=200, c='yellow', label='Centroids')\n",
    "plt.title('Cluster of cars.csv')\n",
    "plt.legend()\n",
    "plt.show()"
   ]
  },
  {
   "cell_type": "code",
   "execution_count": null,
   "id": "2326877c",
   "metadata": {},
   "outputs": [],
   "source": []
  }
 ],
 "metadata": {
  "kernelspec": {
   "display_name": "Python 3 (ipykernel)",
   "language": "python",
   "name": "python3"
  },
  "language_info": {
   "codemirror_mode": {
    "name": "ipython",
    "version": 3
   },
   "file_extension": ".py",
   "mimetype": "text/x-python",
   "name": "python",
   "nbconvert_exporter": "python",
   "pygments_lexer": "ipython3",
   "version": "3.9.7"
  }
 },
 "nbformat": 4,
 "nbformat_minor": 5
}
