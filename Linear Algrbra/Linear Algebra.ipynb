{
 "cells": [
  {
   "cell_type": "code",
   "execution_count": 1,
   "id": "c3a18de4",
   "metadata": {},
   "outputs": [],
   "source": [
    "import numpy as np "
   ]
  },
  {
   "cell_type": "code",
   "execution_count": 4,
   "id": "7fd0717b",
   "metadata": {},
   "outputs": [
    {
     "name": "stdout",
     "output_type": "stream",
     "text": [
      "[[10 15]]\n",
      "[[1 2]]\n",
      "[[11 17]]\n",
      "[[11]\n",
      " [17]]\n",
      "[[11]\n",
      " [17]]\n"
     ]
    }
   ],
   "source": [
    "a = np.array([[10,15]])\n",
    "b = np.array([[1,2]])\n",
    "\n",
    "print(a)\n",
    "print(b)\n",
    "\n",
    "\n",
    "print(a + b)\n",
    "print(a.T + b.T)\n",
    "print((a + b).T)"
   ]
  },
  {
   "cell_type": "code",
   "execution_count": 5,
   "id": "f7da6539",
   "metadata": {},
   "outputs": [
    {
     "data": {
      "text/plain": [
       "array([[ 9, 13]])"
      ]
     },
     "execution_count": 5,
     "metadata": {},
     "output_type": "execute_result"
    }
   ],
   "source": [
    "# Subtracte 2 vectors\n",
    "\n",
    "(a - b)"
   ]
  },
  {
   "cell_type": "code",
   "execution_count": 7,
   "id": "943f0c65",
   "metadata": {},
   "outputs": [
    {
     "data": {
      "text/plain": [
       "array([[60],\n",
       "       [30]])"
      ]
     },
     "execution_count": 7,
     "metadata": {},
     "output_type": "execute_result"
    }
   ],
   "source": [
    "# Scaler\n",
    "\n",
    "c = 2\n",
    "u = np.array([[30, 15]])\n",
    "\n",
    "(c * u).T"
   ]
  },
  {
   "cell_type": "code",
   "execution_count": 9,
   "id": "42361e79",
   "metadata": {},
   "outputs": [
    {
     "name": "stdout",
     "output_type": "stream",
     "text": [
      "370\n"
     ]
    },
    {
     "data": {
      "text/plain": [
       "370"
      ]
     },
     "execution_count": 9,
     "metadata": {},
     "output_type": "execute_result"
    }
   ],
   "source": [
    "# Dot product of 2 vectors\n",
    "# For 2D vectors, it is equivalent to matrix multiplication\n",
    "\n",
    "u = np.array([10, 20])\n",
    "v = np.array([25, 6])\n",
    "\n",
    "print(10 * 25 + 20 * 6)\n",
    "np.dot(u,v)"
   ]
  },
  {
   "cell_type": "code",
   "execution_count": 15,
   "id": "cbcc1c1d",
   "metadata": {},
   "outputs": [
    {
     "name": "stdout",
     "output_type": "stream",
     "text": [
      "[[12 10]\n",
      " [ 4  6]\n",
      " [40 31]] = a\n",
      "\n",
      "[[ 2  8]\n",
      " [46 63]\n",
      " [50 10]] = b\n",
      "\n",
      "[[14 18]\n",
      " [50 69]\n",
      " [90 41]]\n",
      "[[ 10   2]\n",
      " [-42 -57]\n",
      " [-10  21]]\n"
     ]
    }
   ],
   "source": [
    "# Matrix Addition & Subtraction\n",
    "\n",
    "a = np.array([[12, 10], [4,6], [40, 31],])\n",
    "b = np.array([[2, 8], [46,63], [50, 10],])\n",
    "\n",
    "print(a, end=\" = a\\n\\n\")\n",
    "print(b, end=\" = b\\n\\n\")\n",
    "\n",
    "print(a + b)\n",
    "print(a - b)"
   ]
  },
  {
   "cell_type": "code",
   "execution_count": 16,
   "id": "8c87ab2a",
   "metadata": {},
   "outputs": [
    {
     "data": {
      "text/plain": [
       "array([[ 8, 20],\n",
       "       [12, 28],\n",
       "       [32, 24]])"
      ]
     },
     "execution_count": 16,
     "metadata": {},
     "output_type": "execute_result"
    }
   ],
   "source": [
    "# Matrix scalar multiplaction\n",
    "\n",
    "a = 4\n",
    "b = np.array([[2,5], [3, 7], [8,6],])\n",
    "\n",
    "a * b"
   ]
  },
  {
   "cell_type": "code",
   "execution_count": 19,
   "id": "295af3a2",
   "metadata": {},
   "outputs": [
    {
     "name": "stdout",
     "output_type": "stream",
     "text": [
      "[[170, 390]]\n"
     ]
    },
    {
     "data": {
      "text/plain": [
       "array([170, 390])"
      ]
     },
     "execution_count": 19,
     "metadata": {},
     "output_type": "execute_result"
    }
   ],
   "source": [
    "# Matrix and vector multiplication\n",
    "\n",
    "a = [[5, 10], [15, 20]]\n",
    "b = [10, 12]\n",
    "\n",
    "print([[10*5+12*10, 10*15+12*20]])\n",
    "np.dot(a, b)"
   ]
  },
  {
   "cell_type": "code",
   "execution_count": 20,
   "id": "58bb165d",
   "metadata": {},
   "outputs": [
    {
     "data": {
      "text/plain": [
       "array([[105.,  80.],\n",
       "       [225., 190.],\n",
       "       [345., 300.]])"
      ]
     },
     "execution_count": 20,
     "metadata": {},
     "output_type": "execute_result"
    }
   ],
   "source": [
    "# Matrix to matrix multiplication\n",
    "\n",
    "a = [[5, 10], [15, 20], [25, 30],]\n",
    "b = [[3, 6], [9., 5]]\n",
    "\n",
    "np.dot(a, b)"
   ]
  },
  {
   "cell_type": "code",
   "execution_count": 22,
   "id": "f8a76fee",
   "metadata": {},
   "outputs": [
    {
     "name": "stdout",
     "output_type": "stream",
     "text": [
      "[[ 5 10]\n",
      " [15 20]\n",
      " [25 30]] = a\n",
      "\n",
      "[[ 5 15 25]\n",
      " [10 20 30]] = aT\n",
      "\n"
     ]
    }
   ],
   "source": [
    "# Transpoes a matrix\n",
    "\n",
    "a = np.array([[5, 10], [15, 20], [25, 30],])\n",
    "\n",
    "print(a, end=\" = a\\n\\n\")\n",
    "print(a.T, end=\" = aT\\n\\n\")"
   ]
  },
  {
   "cell_type": "code",
   "execution_count": 24,
   "id": "ecb24593",
   "metadata": {},
   "outputs": [
    {
     "name": "stdout",
     "output_type": "stream",
     "text": [
      "[[1. 0.]\n",
      " [0. 1.]] = I1\n",
      "\n",
      "[[1. 0. 0.]\n",
      " [0. 1. 0.]\n",
      " [0. 0. 1.]] = I2\n",
      "\n"
     ]
    }
   ],
   "source": [
    "# Create an Indetity matrix\n",
    "\n",
    "I1 = np.eye(2)\n",
    "I2 = np.eye(3)\n",
    "\n",
    "print(I1, end=\" = I1\\n\\n\")\n",
    "print(I2, end=\" = I2\\n\\n\")"
   ]
  },
  {
   "cell_type": "code",
   "execution_count": 31,
   "id": "9e862888",
   "metadata": {},
   "outputs": [
    {
     "name": "stdout",
     "output_type": "stream",
     "text": [
      "[[2 1 0]\n",
      " [0 1 0]\n",
      " [1 2 1]] = a\n",
      "\n",
      "[[ 0.5 -0.5  0. ]\n",
      " [ 0.   1.   0. ]\n",
      " [-0.5 -1.5  1. ]] = a_inv\n",
      "\n"
     ]
    },
    {
     "data": {
      "text/plain": [
       "array([[1., 0., 0.],\n",
       "       [0., 1., 0.],\n",
       "       [0., 0., 1.]])"
      ]
     },
     "execution_count": 31,
     "metadata": {},
     "output_type": "execute_result"
    }
   ],
   "source": [
    "# Inverse a matrix\n",
    "# return the matrix a_inv satifying\n",
    "# dot(a, a_inv) = dot(a_inv, a) = eye(a.shape[0])\n",
    "\n",
    "a = np.array([\n",
    "    [2, 1, 0],\n",
    "    [0, 1, 0],\n",
    "    [1, 2, 1]\n",
    "])\n",
    "\n",
    "print(a, end=\" = a\\n\\n\")\n",
    "a_inv = np.linalg.inv(a)\n",
    "print(a_inv, end=\" = a_inv\\n\\n\")\n",
    "\n",
    "np.dot(a, a_inv)"
   ]
  },
  {
   "cell_type": "code",
   "execution_count": null,
   "id": "9fd45569",
   "metadata": {},
   "outputs": [],
   "source": []
  }
 ],
 "metadata": {
  "kernelspec": {
   "display_name": "Python 3 (ipykernel)",
   "language": "python",
   "name": "python3"
  },
  "language_info": {
   "codemirror_mode": {
    "name": "ipython",
    "version": 3
   },
   "file_extension": ".py",
   "mimetype": "text/x-python",
   "name": "python",
   "nbconvert_exporter": "python",
   "pygments_lexer": "ipython3",
   "version": "3.9.7"
  }
 },
 "nbformat": 4,
 "nbformat_minor": 5
}
